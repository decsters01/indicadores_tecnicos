# Forex Indicators — Notebook completo para Google Colab

# 1) Instalação e imports
import sys, subprocess, os

def ensure(spec: str):
    try:
        __import__(spec.split("==")[0].split(">=")[0].split("<")[0])
    except Exception:
        subprocess.check_call([sys.executable, "-m", "pip", "install", spec])

for pkg in ["numpy>=2.1.0,<3", "pandas>=2.2.2,<3", "matplotlib>=3.7.0"]:
    ensure(pkg)

import numpy as np
import pandas as pd
import matplotlib.pyplot as plt

# 2) Localizar pacote
CANDIDATE_PATHS = ["/content", "/content/drive/MyDrive", "/workspace"]
for base in CANDIDATE_PATHS:
    if os.path.isdir(os.path.join(base, "forex_indicators")) and base not in sys.path:
        sys.path.insert(0, base)

import forex_indicators as fi
plt.style.use('seaborn-v0_8')
pd.set_option('display.max_columns', 200)
print("Import OK: forex_indicators")

# 3) Dados sintéticos (OHLCV)
np.random.seed(7)
n = 1000
idx = pd.date_range("2022-01-01", periods=n, freq="H")
base = 1.10 + np.cumsum(np.random.normal(0, 0.0005, size=n))
high = pd.Series(base + np.random.uniform(0.0002, 0.0015, size=n), index=idx, name="high")
low = pd.Series(base - np.random.uniform(0.0002, 0.0015, size=n), index=idx, name="low")
open_ = pd.Series(base + np.random.uniform(-0.0008, 0.0008, size=n), index=idx, name="open")
close = pd.Series(base + np.random.uniform(-0.0008, 0.0008, size=n), index=idx, name="close")
volume = pd.Series(np.random.randint(1_000, 20_000, size=n).astype(float), index=idx, name="volume")

df = pd.DataFrame({"open": open_, "high": high, "low": low, "close": close, "volume": volume})

# 4) Calcular indicadores principais
ind = {}
ind['ema20'] = fi.ema(df['close'], 20)
ind['rsi14'] = fi.rsi(df['close'], 14)
ind['macd'] = fi.macd(df['close'])
ind['bb'] = fi.bollinger_bands(df['close'])
ind['atr14'] = fi.atr(df['high'], df['low'], df['close'], 14)
ind['adx14'] = fi.adx(df['high'], df['low'], df['close'], 14)
ind['stoch'] = fi.stochastic(df['high'], df['low'], df['close'])
ind['supertrend'] = fi.supertrend(df['high'], df['low'], df['close'])

print("Indicadores calculados: ", list(ind.keys()))

# 5) Validação básica
assert len(ind['ema20']) == len(df)
assert set(['macd','signal','hist']).issubset(ind['macd'].columns)
assert set(['bb_mid','bb_upper','bb_lower']).issubset(ind['bb'].columns)
assert ind['rsi14'].between(0,100).sum() > 0
print("Validações básicas OK.")

# 6) Visualizações
fig, axes = plt.subplots(3, 1, figsize=(12, 10), sharex=True)
axes[0].plot(df.index, df['close'], label='Close', color='black', linewidth=1)
axes[0].plot(df.index, ind['ema20'], label='EMA 20', color='tab:blue')
axes[0].fill_between(df.index, ind['bb']['bb_upper'], ind['bb']['bb_lower'], color='tab:blue', alpha=0.1, label='Bollinger')
axes[0].set_title('Preço, EMA20 e Bandas de Bollinger')
axes[0].legend()

axes[1].plot(df.index, ind['rsi14'], label='RSI 14', color='tab:orange')
axes[1].axhline(70, color='red', linestyle='--', alpha=0.5)
axes[1].axhline(30, color='green', linestyle='--', alpha=0.5)
axes[1].set_title('RSI 14')
axes[1].legend()

axes[2].plot(df.index, ind['macd']['macd'], label='MACD', color='tab:purple')
axes[2].plot(df.index, ind['macd']['signal'], label='Sinal', color='tab:gray')
axes[2].bar(df.index, ind['macd']['hist'], label='Hist', color='tab:purple', alpha=0.3)
axes[2].set_title('MACD')
axes[2].legend()
plt.tight_layout()
plt.show()

# 7) Mini backtest: EMA 20/50
ema20 = fi.ema(df['close'], 20)
ema50 = fi.ema(df['close'], 50)
signal_ma = np.where(ema20 > ema50, 1, -1)
ret = df['close'].pct_change().fillna(0)
ret_sys = ret * pd.Series(signal_ma, index=df.index).shift(1).fillna(0)
print('Retorno cumulativo EMA 20/50:', (1+ret_sys).prod()-1)

# 8) Mini backtest: Supertrend
st = ind['supertrend']
signal_st = st['supertrend_trend']  # +1/-1
ret_sys2 = ret * signal_st.shift(1).fillna(0)
print('Retorno cumulativo Supertrend:', (1+ret_sys2).prod()-1)

print('Notebook pronto. Se estiver no Colab, certifique-se que a pasta com "forex_indicators" está em /content ou montada no Drive.')