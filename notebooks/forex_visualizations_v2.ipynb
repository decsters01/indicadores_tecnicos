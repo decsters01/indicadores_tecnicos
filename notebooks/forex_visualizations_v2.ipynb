import sys
import numpy as np
import pandas as pd
import matplotlib.pyplot as plt

# acessar pacote local
sys.path.insert(0, "/workspace")

try:
    import yfinance as yf
except Exception:
    yf = None

from forex_indicators import (
    sma, ema, macd, rsi, bollinger_bands, supertrend,
    keltner_channels, adx, atr
)

plt.style.use('seaborn-v0_8')
pd.set_option('display.max_columns', 200)# Visualizações de Indicadores e Mini Backtest (EURUSD)

Este notebook:
- Tenta baixar EURUSD via `yfinance` (opcional). Se falhar, usa dados sintéticos.
- Calcula indicadores do pacote `forex_indicators`.
- Plota alguns indicadores.
- Executa dois mini backtests: cruzamento de MAs (EMA 20/50) e Supertrend.

Dica: se quiser usar dados reais e não tiver `yfinance`, instale no seu ambiente ou ignore (o notebook funciona com fallback).