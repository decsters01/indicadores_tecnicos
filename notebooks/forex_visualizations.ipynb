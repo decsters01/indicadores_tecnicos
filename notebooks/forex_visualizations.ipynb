# Calcula alguns indicadores
close = df["close"]
high = df["high"]
low = df["low"]

ind = {}
ind["ema_20"] = ema(close, 20)
ind["ema_50"] = ema(close, 50)
ind["sma_200"] = sma(close, 200)
ind["rsi_14"] = rsi(close, 14)
ind["macd"] = macd(close)
ind["bb"] = bollinger_bands(close, 20, 2.0)
ind["kc"] = keltner_channels(high, low, close, 20, 10, 2.0)
ind["st"] = supertrend(high, low, close, 10, 3.0)
ind["adx"] = adx(high, low, close, 14)
ind["atr_14"] = atr(high, low, close, 14)

list(ind.keys())def load_eurusd(start="2020-01-01", end=None):
    if yf is not None:
        try:
            df = yf.download("EURUSD=X", start=start, end=end, progress=False, auto_adjust=True)
            if not df.empty:
                df = df.rename(columns=str.lower)
                return df[["open", "high", "low", "close", "volume"]]
        except Exception:
            pass
    # Fallback sintético
    n = 1500
    idx = pd.date_range(start, periods=n, freq="D")
    price = 1.10 + np.cumsum(np.random.normal(0, 0.001, size=n))
    high = price + np.random.uniform(0.0005, 0.0020, size=n)
    low = price - np.random.uniform(0.0005, 0.0020, size=n)
    open_ = price + np.random.uniform(-0.001, 0.001, size=n)
    close = price + np.random.uniform(-0.001, 0.001, size=n)
    volume = np.random.randint(1000, 10000, size=n).astype(float)
    return pd.DataFrame({"open": open_, "high": high, "low": low, "close": close, "volume": volume}, index=idx)

df = load_eurusd()
df.tail()
import matplotlib.pyplot as plt

# Garantir acesso ao pacote local
sys.path.insert(0, "/workspace")

try:
    import yfinance as yf
except Exception:
    yf = None

from forex_indicators import (
    sma, ema, macd, rsi, bollinger_bands, supertrend,
    keltner_channels, adx, atr
)

pd.set_option('display.max_columns', 200)
plt.style.use('seaborn-v0_8')
# Visualizações de Indicadores e Mini Backtest (EURUSD)

Este notebook:
- Baixa EURUSD (via `yfinance`) ou gera dados sintéticos como fallback
- Calcula indicadores do pacote `forex_indicators`
- Plota algumas séries
- Executa um mini backtest de cruzamento de médias e um baseado em Supertrend

Requisitos:
- pandas, numpy, matplotlib, yfinance (opcional)
- pacote local `forex_indicators` (já no workspace)